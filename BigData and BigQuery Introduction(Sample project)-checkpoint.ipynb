{
 "cells": [
  {
   "cell_type": "markdown",
   "metadata": {},
   "source": [
    "<center><h1>Big Data Introduction</h1></center>"
   ]
  },
  {
   "cell_type": "markdown",
   "metadata": {},
   "source": [
    "<h3>Topics to be covered</h3>\n",
    "\n",
    "<ul>\n",
    "<li> What is Big Data?</li>\n",
    "<li> Big Data Analytics</li>\n",
    "<li> Datawarehouse Introduction</li>\n",
    "<li> What is BigQuery?</li>\n",
    "<li> Steps and Guidelines for using BigQuery</li>\n",
    "<li> Demo Project</li>\n",
    "</ul>"
   ]
  },
  {
   "cell_type": "markdown",
   "metadata": {},
   "source": [
    "<h2>What is Big Data? </h2>"
   ]
  },
  {
   "cell_type": "markdown",
   "metadata": {},
   "source": [
    "<p> Big Data is defined as data that is huge in size. Bigdata is a term used to describe a collection of data that is huge in size and yet growing exponentially with time.\n",
    "<ul>\n",
    "<li> Big Data analytics examples includes stock exchanges, social media sites, jet engines, etc.</li>\n",
    "\n",
    "<li> Big Data could be 1) Structured, 2) Unstructured, 3) Semi-structured</li>\n",
    "\n",
    "<li> Volume, Variety, Velocity, and Variability are few Big Data characteristics</li>\n",
    "\n",
    "<li> Improved customer service, better operational efficiency, Better Decision Making are few advantages of Bigdata</li> </ul>\n",
    "</p>\n",
    "\n",
    "<p> There are many tools & technologies which helps to transform or analyze the huge amount of data in the realtime to take efficient business decisions </p>"
   ]
  },
  {
   "cell_type": "markdown",
   "metadata": {},
   "source": [
    "<img src=\"https://github.com/vinith95rajan/Assets/blob/main/Big-Data-Tools.png?raw=true\" alt=\"Bigdata tool\" width=\"600\" height=\"700\">"
   ]
  },
  {
   "cell_type": "markdown",
   "metadata": {},
   "source": [
    "<h2>Big Data Analytics</h2>\n",
    "<p>Big Data Analytics is “the process of examining large data sets containing a variety of data types – i.e., Big Data – to uncover hidden patterns, unknown correlations, market trends, customer preferences, and other useful information.” Companies and enterprises that implement Big Data Analytics often reap several business benefits, including more effective marketing campaigns, the discovery of new revenue opportunities, improved customer service delivery, more efficient operations, and competitive advantages. Companies implement Big Data Analytics because they want to make more informed business decisions. Big Data Analytics gives analytics professionals, such as data scientists and predictive modelers, the ability to analyze Big Data from multiple and varied sources, including transactional data and other structured data.</p>"
   ]
  },
  {
   "cell_type": "markdown",
   "metadata": {},
   "source": [
    "<img src=\"https://github.com/vinith95rajan/Assets/blob/main/Picture10.png?raw=true\" alt=\"Bigdata tool\" width=\"600\" height=\"700\">"
   ]
  },
  {
   "cell_type": "markdown",
   "metadata": {},
   "source": [
    "<h3>Types of Big Data Analytics</h3>\n",
    "\n",
    "<h4><mark>By Applying analytics one can answer the below questions</mark></h4>\n",
    "\n",
    "<h4>\n",
    "    <mark>There are four types:</mark></h4>\n",
    "  <p>  \n",
    "    <strong>1. Descriptive Analytics:</strong> It uses data aggregation and data mining to provide insight into the past and answer:<strong> “What has happened?”</strong>.The descriptive analytics does exactly what the name implies they “describe” or summarize raw data and make it interpretable by humans.</p>"
   ]
  },
  {
   "cell_type": "markdown",
   "metadata": {},
   "source": [
    "<img src=\"https://github.com/vinith95rajan/Assets/blob/main/Picture6-2.png?raw=true\" alt=\"Bigdata tool\" width=\"600\" height=\"700\">"
   ]
  },
  {
   "cell_type": "markdown",
   "metadata": {},
   "source": [
    "<p>\n",
    "    <strong>2. Predictive Analytics:</strong> It uses statistical models and forecasts techniques to understand the future and answer:<strong>“What could happen?”</strong> Predictive analytics provides companies with actionable insights based on data. It provides estimates about the likelihood of a future outcome.</p>\n",
    "    \n"
   ]
  },
  {
   "cell_type": "markdown",
   "metadata": {},
   "source": [
    "<img src=\"https://github.com/vinith95rajan/Assets/blob/main/Picture7.png?raw=true\" alt=\"Bigdata tool\" width=\"600\" height=\"700\">"
   ]
  },
  {
   "cell_type": "markdown",
   "metadata": {},
   "source": [
    "<p>\t\t   \n",
    "    <strong>3. Prescriptive Analytics:</strong> It uses optimization and simulation algorithms to advice on possible outcomes and answers:<strong>“What should we do?”</strong> It allows users to “prescribe” a number of different possible actions and guide them towards a solution. In a nutshell, this analytics is all about providing advice. </p>\n",
    "    \n"
   ]
  },
  {
   "cell_type": "markdown",
   "metadata": {},
   "source": [
    "<img src=\"https://github.com/vinith95rajan/Assets/blob/main/Picture8.png?raw=true\" alt=\"Bigdata tool\" width=\"600\" height=\"700\">"
   ]
  },
  {
   "cell_type": "markdown",
   "metadata": {},
   "source": [
    "<p>\t\t   \n",
    "    <strong>4. Diagnostic Analytics:</strong> It is used to determine why something happened in the past. It is characterized by techniques such as drill-down, data discovery, data mining and correlations. <strong>Diagnostic analytics takes a deeper look at data to understand the root causes of the events.</strong>\n",
    "</p>\n",
    "\n"
   ]
  },
  {
   "cell_type": "markdown",
   "metadata": {},
   "source": [
    "<img src=\"https://github.com/vinith95rajan/Assets/blob/main/Picture9.png?raw=true\" alt=\"Bigdata tool\" width=\"600\" height=\"700\">\n"
   ]
  },
  {
   "cell_type": "markdown",
   "metadata": {},
   "source": [
    "<h2>Datawarehouse Introduction</h2>"
   ]
  },
  {
   "cell_type": "markdown",
   "metadata": {},
   "source": [
    "<p>In computing, a data warehouse (DW or DWH), also known as an enterprise data warehouse (EDW), is a system used for reporting and data analysis, and is considered a core component of business intelligence.DWs are central repositories of integrated data from one or more disparate sources. They store current and historical data in one single place that are used for creating analytical reports for workers throughout the enterprise.\n",
    "\n",
    "The data stored in the warehouse is uploaded from the operational systems (such as marketing or sales). The data may pass through an operational data store and may require data cleansing for additional operations to ensure data quality before it is used in the DW for reporting.\n",
    "\n",
    "Extract, transform, load (ETL) and extract, load, transform (ELT) are the two main approaches used to build a data warehouse system.</p>"
   ]
  },
  {
   "cell_type": "markdown",
   "metadata": {},
   "source": [
    "<img src=\"https://panoply.io/uploads/versions/diagram8-1---x----750-376x---.jpg\" alt=\"Bigdata tool\" width=\"600\" height=\"700\">"
   ]
  },
  {
   "cell_type": "markdown",
   "metadata": {},
   "source": [
    "<h2>What is BigQuery</h2>"
   ]
  },
  {
   "cell_type": "markdown",
   "metadata": {},
   "source": [
    "<p> Google’s BigQuery is an enterprise-grade cloud-native data warehouse. BigQuery was first launched as a service in 2010 with general availability in November 2011. Since inception, BigQuery has evolved into a more economical and fully-managed data warehouse which can run blazing fast interactive and ad-hoc queries on datasets of petabyte-scale. In addition, BigQuery now integrates with a variety of Google Cloud Platform (GCP) services and third-party tools which makes it more useful.\n",
    "\n",
    "    \n",
    "    \n",
    "BigQuery is serverless, or more precisely data warehouse as a service. There are no servers to manage or database software to install. BigQuery service manages underlying software as well as infrastructure including scalability and high-availability. The pricing model is quite simple - for every 1 TB of data processed you pay $5. BigQuery exposes simple client interface which enables users to run interactive queries.</p>"
   ]
  },
  {
   "cell_type": "markdown",
   "metadata": {},
   "source": [
    "<p>\n",
    "<b>BigQuery ML</b> enables data scientists and data analysts to build and operationalize ML models on planet-scale structured or semi-structured data, directly inside BigQuery, using simple SQL—in a fraction of the time. Export BigQuery ML models for online prediction into Cloud AI Platform or your own serving layer</p>"
   ]
  },
  {
   "cell_type": "markdown",
   "metadata": {},
   "source": [
    "<p>\n",
    "<b>BigQuery BI Engine</b> is a blazing-fast in-memory analysis service for BigQuery that allows users to analyze large and complex datasets interactively with sub-second query response time and high concurrency. BigQuery BI Engine seamlessly integrates with familiar tools like Data Studio and will help accelerate data exploration and analysis for Looker, Sheets</p>\n"
   ]
  },
  {
   "cell_type": "markdown",
   "metadata": {},
   "source": [
    "<p><b>Natural language processing\tData QnA </b> (private alpha) makes it easy for anyone to access the data insights they need through NLP—all while maintaining governance and security controls. Based on Analyza (Google Research), Data QnA enables you to analyze petabytes of data via BigQuery, and can be embedded where users work; chatbots, spreadsheets, BI platforms like Looker, or custom-built UIs </p>"
   ]
  },
  {
   "cell_type": "markdown",
   "metadata": {},
   "source": [
    "<h2>Steps and guidelines for using BigQuery</h2>"
   ]
  },
  {
   "cell_type": "markdown",
   "metadata": {},
   "source": [
    "<p><strong><h4>There are three main ways you interact with BigQuery:</h4></strong>\n",
    "\n",
    "Loading and exporting data\n",
    "Querying and viewing data\n",
    "Managing data\n",
    "To perform these interactions, you can use the following:\n",
    "<ul>\n",
    "<li>The Cloud Console</li>\n",
    "<li>The bq command-line tool</li>\n",
    "<li>The BigQuery REST API or client libraries</li>\n",
    "</ul>\n",
    "<b>Loading and exporting data :</b>\n",
    "    In most cases, you load data into BigQuery storage. If you want to get the data back out of BigQuery, you can export the data.Alternatively, you can set up a table as an external data source, which allows you to query data stored outside of BigQuery.\n",
    "\n",
    "<b>Querying and viewing data :</b>\n",
    "    After you load your data into BigQuery, you can query or view the data in your tables. For example, you can perform the following tasks:\n",
    "    <ul>\n",
    "    <li> Run interactive queries </li>\n",
    "    <li> Run batch queries</li>\n",
    "    <li>Create a view, which is a virtual table defined by a SQL query</li>\n",
    "    <li>Use partitioned tables to query a subset of your data </li></ul>\n",
    "\n",
    "<b>Managing data :</b>\n",
    "In addition to querying and viewing data, you can manage data in BigQuery in the following ways:\n",
    "\n",
    "Listing projects, jobs, datasets, and tables\n",
    "Getting information about jobs, datasets, and tables\n",
    "Defining, updating, or patching datasets and tables\n",
    "Deleting datasets and tables\n",
    "Managing table partitions\n",
    "\n",
    "</p>\n",
    "\n",
    "<strong> <mark><a href=\"https://cloud.google.com/bigquery/?utm_source=google&utm_medium=cpc&utm_campaign=emea-gb-all-en-dr-skws-all-solutions-trial-b-gcp-1009139&utm_content=text-ad-none-any-DEV_c-CRE_335630920536-ADGP_Hybrid%20%7C%20AW%20SEM%20%7C%20SKWS%20~%20BMM_1%3A1_GB_EN_Data%20Warehousing_bigquery-KWID_43700053279032269-aud-606988878614%3Akwd-47616964923-userloc_9056239&utm_term=KW_%2Bbigquery-NET_g-PLAC_&ds_rl=1242850&ds_rl=1245734&ds_rl=1242850&ds_rl=1245734&gclid=Cj0KCQiAvP6ABhCjARIsAH37rbQ-dGt81GTMxYiz-NrMsKhaXN-Zzayr0vfPkWDDSWhr3CHj0_hQU_saAmynEALw_wcB\">Please clik here to know more</a></mark> </strong>"
   ]
  },
  {
   "cell_type": "markdown",
   "metadata": {},
   "source": [
    "<h2>Demo Project</h2>"
   ]
  },
  {
   "cell_type": "markdown",
   "metadata": {},
   "source": [
    "<p><b>Technological stack used :</b> \n",
    "    <ol>\n",
    "        <li>Google Cloud Services</li>\n",
    "        <li>BiqQuery BigData</li>\n",
    "        <li>Data Studio for visualization</li> </ol>\n",
    "        </p>"
   ]
  },
  {
   "cell_type": "markdown",
   "metadata": {},
   "source": [
    "<p> <h3> Probelm Statement </h3>\n",
    "    <h4>\n",
    "        The Employers of an organization are leaving at fast phase and as an Business/Data Analyst we are looking at the metric to identify which department more left members and is age a metric for their releave </h4>\n",
    "       <h4>\n",
    "        A Database (Employee Attrition) has been created in the Google Cloud and an Real time <mark>Dataset</mark> from IBM public repository has been connected to the Google Cloud for Analysis </h4>\n",
    "        <h4> \n",
    "    The Data Gathering and calculations are done using <mark><strong> SQL </strong></mark> and for the data-visualization we used the <mark><strong> Google DataStudion </strong></mark> </h4>\n",
    "</p>"
   ]
  },
  {
   "cell_type": "markdown",
   "metadata": {},
   "source": [
    "# Schema for Attrition database\n",
    "<p> The Uploaded Dataset Schema is shown below</p>"
   ]
  },
  {
   "cell_type": "markdown",
   "metadata": {},
   "source": [
    "<img src=\"https://github.com/vinith95rajan/Assets/blob/main/Sample%20Employee%20schema.PNG?raw=true\" alt=\"Bigdata tool\" width=\"500\" height=\"600\">"
   ]
  },
  {
   "cell_type": "markdown",
   "metadata": {},
   "source": [
    "<p><strong>Sample SQL Query to analyse the Age group and total left - Men and women percentages </strong> </p>"
   ]
  },
  {
   "cell_type": "markdown",
   "metadata": {},
   "source": [
    "<img src=\"https://github.com/vinith95rajan/Assets/blob/main/sql%20query.PNG?raw=true\" alt=\"Bigdata tool\" width=\"600\" height=\"700\">"
   ]
  },
  {
   "cell_type": "markdown",
   "metadata": {},
   "source": [
    "<p><strong>Above Query Sample Output </strong> </p>"
   ]
  },
  {
   "cell_type": "markdown",
   "metadata": {},
   "source": [
    "<img src=\"https://github.com/vinith95rajan/Assets/blob/main/Result%20Preview.PNG?raw=true\" alt=\"Bigdata tool\" width=\"600\" height=\"700\">"
   ]
  },
  {
   "cell_type": "markdown",
   "metadata": {},
   "source": [
    "<h3>Demo Dashboard</h3>"
   ]
  },
  {
   "cell_type": "markdown",
   "metadata": {},
   "source": [
    "<img src=\"https://github.com/vinith95rajan/Assets/blob/main/total%20result.PNG?raw=true\" alt=\"Bigdata tool\" width=\"1000\" height=\"600\">"
   ]
  }
 ],
 "metadata": {
  "kernelspec": {
   "display_name": "Python 3",
   "language": "python",
   "name": "python3"
  },
  "language_info": {
   "codemirror_mode": {
    "name": "ipython",
    "version": 3
   },
   "file_extension": ".py",
   "mimetype": "text/x-python",
   "name": "python",
   "nbconvert_exporter": "python",
   "pygments_lexer": "ipython3",
   "version": "3.8.5"
  }
 },
 "nbformat": 4,
 "nbformat_minor": 4
}
