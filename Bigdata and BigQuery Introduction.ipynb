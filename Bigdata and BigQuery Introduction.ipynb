{
 "cells": [
  {
   "attachments": {},
   "cell_type": "markdown",
   "metadata": {},
   "source": [
    "<p> Big data Introduction:\n",
    "• Big Data definition : Big Data is defined as data that is huge in size. Bigdata is a term used to describe a collection of data that is huge in size and yet growing exponentially with time.\n",
    "\n",
    "• Big Data analytics examples includes stock exchanges, social media sites, jet engines, etc.\n",
    "\n",
    "• Big Data could be 1) Structured, 2) Unstructured, 3) Semi-structured\n",
    "\n",
    "• Volume, Variety, Velocity, and Variability are few Big Data characteristics\n",
    "\n",
    "• Improved customer service, better operational efficiency, Better Decision Making are few advantages of Bigdata </p>"
   ]
  },
  {
   "cell_type": "markdown",
   "metadata": {},
   "source": [
    "<img src=\"https://github.com/vinith95rajan/Assets/blob/main/Big-Data-Tools.png?raw=true\" alt=\"Bigdata tool\" width=\"500\" height=\"600\">"
   ]
  },
  {
   "cell_type": "markdown",
   "metadata": {},
   "source": [
    "<img src=\"https://github.com/vinith95rajan/Assets/blob/main/Picture10.png?raw=true\" alt=\"Bigdata tool\" width=\"500\" height=\"600\">"
   ]
  },
  {
   "cell_type": "markdown",
   "metadata": {},
   "source": [
    "<p> Types of Big Data Analytics\n",
    "There are four types:\n",
    "\t1. Descriptive Analytics: It uses data aggregation and data mining to provide insight into the past and answer: “What has happened?” The descriptive analytics does exactly what the name implies they “describe” or summarize raw data and make it interpretable by humans. \n",
    "\t\n",
    "\t                                                                                                                                                               \n",
    "\t2. Predictive Analytics: It uses statistical models and forecasts techniques to understand the future and answer: “What could happen?” Predictive analytics provides companies with actionable insights based on data. It provides estimates about the likelihood of a future outcome. \n",
    "\t\n",
    "\t   \n",
    "\t3. Prescriptive Analytics: It uses optimization and simulation algorithms to advice on possible outcomes and answers: “What should we do?” It allows users to “prescribe” a number of different possible actions and guide them towards a solution. In a nutshell, this analytics is all about providing advice.  \n",
    "\t\n",
    "\t   \n",
    "\t4. Diagnostic Analytics: It is used to determine why something happened in the past. It is characterized by techniques such as drill-down, data discovery, data mining and correlations. Diagnostic analytics takes a deeper look at data to understand the root causes of the events. \n",
    "\n",
    "\n",
    "Big Data Tools\n",
    "These are some of the following tools used for Big Data Analytics: Hadoop, Pig, Apache HBase, Apache Spark, Talend, Splunk, Apache Hive, Kafka.\n",
    "Big Data Domains\n",
    "\n",
    "From <https://www.edureka.co/blog/big-data-analytics/> \n",
    "\n",
    "\n",
    "Here I am going to use Biq Query for the data analysis.\n",
    "\n",
    "BigQuery is a fully-managed, serverless data warehouse that enables scalable analysis over petabytes of data. It is a Platform as a Service (PaaS) that supports querying using ANSI SQL. It also has built-in machine learning capabilities. BigQuery was announced in May 2010 and made generally available in November 2011.\n",
    "\n",
    "From <https://en.wikipedia.org/wiki/BigQuery> \n",
    "\n",
    "\n",
    "\n",
    "Features[edit]\n",
    "• Managing data - Create and delete objects such as tables, views, and user defined functions. Import data from Google Storage in formats such as CSV, Parquet, Avro or JSON.\n",
    "• Query - Queries are expressed in a standard SQL dialect[4] and the results are returned in JSON with a maximum reply length of approximately 128 MB, or an unlimited size when large query results are enabled.[5]\n",
    "• Integration - BigQuery can be used from Google Apps Script[6] (e.g. as a bound script in Google Docs), or any language that can work with its REST API or client libraries.[7]\n",
    "• Access control - Share datasets with arbitrary individuals, groups, or the world.\n",
    "• Machine learning - Create and execute machine learning models using SQL queries.\n",
    "\n",
    "From <https://en.wikipedia.org/wiki/BigQuery> \n",
    "</p>"
   ]
  },
  {
   "cell_type": "markdown",
   "metadata": {},
   "source": [
    "<img src=\"https://github.com/vinith95rajan/Assets/blob/main/Picture9.png?raw=true\" alt=\"Bigdata tool\" width=\"500\" height=\"600\">\n"
   ]
  },
  {
   "cell_type": "markdown",
   "metadata": {},
   "source": [
    "<img src=\"https://github.com/vinith95rajan/Assets/blob/main/Picture8.png?raw=true\" alt=\"Bigdata tool\" width=\"500\" height=\"600\">"
   ]
  },
  {
   "cell_type": "markdown",
   "metadata": {},
   "source": [
    "<img src=\"https://github.com/vinith95rajan/Assets/blob/main/Picture7.png?raw=true\" alt=\"Bigdata tool\" width=\"500\" height=\"600\">"
   ]
  },
  {
   "cell_type": "markdown",
   "metadata": {},
   "source": [
    "<img src=\"https://github.com/vinith95rajan/Assets/blob/main/Picture6-2.png?raw=true\" alt=\"Bigdata tool\" width=\"500\" height=\"600\">"
   ]
  },
  {
   "cell_type": "markdown",
   "metadata": {},
   "source": [
    "<p> BigQuery ML\n",
    "BigQuery ML enables data scientists and data analysts to build and operationalize ML models on planet-scale structured or semi-structured data, directly inside BigQuery, using simple SQL—in a fraction of the time. Export BigQuery ML models for online prediction into Cloud AI Platform or your own serving layer</p>"
   ]
  },
  {
   "cell_type": "markdown",
   "metadata": {},
   "source": [
    "<p> BigQuery BI Engine\n",
    "BigQuery BI Engine is a blazing-fast in-memory analysis service for BigQuery that allows users to analyze large and complex datasets interactively with sub-second query response time and high concurrency. BigQuery BI Engine seamlessly integrates with familiar tools like Data Studio and will help accelerate data exploration and analysis for Looker, Sheets</p>\n"
   ]
  },
  {
   "cell_type": "markdown",
   "metadata": {},
   "source": [
    "<p>Natural language processing\tData QnA (private alpha) makes it easy for anyone to access the data insights they need through NLP—all while maintaining governance and security controls. Based on Analyza (Google Research), Data QnA enables you to analyze petabytes of data via BigQuery, and can be embedded where users work; chatbots, spreadsheets, BI platforms like Looker, or custom-built UIs </p>"
   ]
  },
  {
   "cell_type": "markdown",
   "metadata": {},
   "source": [
    "# <p> Example by using big query Analysis and Visualization </p>"
   ]
  },
  {
   "cell_type": "markdown",
   "metadata": {},
   "source": [
    "<p> A new database Employee attrition has been created in cloud and loaded the Online dataset using ETL method to analyse and deliver desired KPI output </p>"
   ]
  },
  {
   "cell_type": "markdown",
   "metadata": {},
   "source": [
    "# Schema for Attrition database"
   ]
  },
  {
   "cell_type": "markdown",
   "metadata": {},
   "source": [
    "<img src=\"https://github.com/vinith95rajan/Assets/blob/main/schema.PNG?raw=true\" alt=\"Bigdata tool\" width=\"500\" height=\"600\">"
   ]
  },
  {
   "cell_type": "markdown",
   "metadata": {},
   "source": [
    "<img src=\"https://github.com/vinith95rajan/Assets/blob/main/sql%20query.PNG?raw=true\" alt=\"Bigdata tool\" width=\"500\" height=\"600\">"
   ]
  },
  {
   "cell_type": "markdown",
   "metadata": {},
   "source": [
    "<img src=\"https://github.com/vinith95rajan/Assets/blob/main/Result%20Preview.PNG?raw=true\" alt=\"Bigdata tool\" width=\"500\" height=\"600\">"
   ]
  },
  {
   "cell_type": "markdown",
   "metadata": {},
   "source": [
    "<img src=\"https://github.com/vinith95rajan/Assets/blob/main/total%20result.PNG?raw=true\" alt=\"Bigdata tool\" width=\"1000\" height=\"600\">"
   ]
  },
  {
   "cell_type": "code",
   "execution_count": null,
   "metadata": {},
   "outputs": [],
   "source": []
  }
 ],
 "metadata": {
  "kernelspec": {
   "display_name": "Python 3",
   "language": "python",
   "name": "python3"
  },
  "language_info": {
   "codemirror_mode": {
    "name": "ipython",
    "version": 3
   },
   "file_extension": ".py",
   "mimetype": "text/x-python",
   "name": "python",
   "nbconvert_exporter": "python",
   "pygments_lexer": "ipython3",
   "version": "3.8.5"
  }
 },
 "nbformat": 4,
 "nbformat_minor": 4
}
